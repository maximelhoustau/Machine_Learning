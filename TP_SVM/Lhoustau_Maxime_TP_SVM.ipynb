{
 "cells": [
  {
   "cell_type": "markdown",
   "metadata": {},
   "source": [
    "## TP Support Vector Machine (SVM)"
   ]
  },
  {
   "cell_type": "code",
   "execution_count": 2,
   "metadata": {},
   "outputs": [],
   "source": [
    "import numpy as np\n",
    "import pylab as pl\n",
    "import matplotlib.pyplot as plt\n",
    "from sklearn.svm import SVC\n",
    "from sklearn import datasets\n",
    "from sklearn.datasets import fetch_lfw_people\n",
    "from time import time\n",
    "from numpy import random as rd\n",
    "from sklearn.decomposition import PCA\n",
    "iris = datasets.load_iris()"
   ]
  },
  {
   "cell_type": "markdown",
   "metadata": {},
   "source": [
    "### Question 1"
   ]
  },
  {
   "cell_type": "code",
   "execution_count": 5,
   "metadata": {},
   "outputs": [
    {
     "data": {
      "text/plain": [
       "array([[4.9, 3. , 1.4, 0.2],\n",
       "       [4.6, 3.1, 1.5, 0.2],\n",
       "       [5.4, 3.9, 1.7, 0.4],\n",
       "       [5. , 3.4, 1.5, 0.2],\n",
       "       [4.9, 3.1, 1.5, 0.1],\n",
       "       [4.8, 3.4, 1.6, 0.2],\n",
       "       [4.3, 3. , 1.1, 0.1],\n",
       "       [5.7, 4.4, 1.5, 0.4],\n",
       "       [5.1, 3.5, 1.4, 0.3],\n",
       "       [5.1, 3.8, 1.5, 0.3],\n",
       "       [5.1, 3.7, 1.5, 0.4],\n",
       "       [5.1, 3.3, 1.7, 0.5],\n",
       "       [5. , 3. , 1.6, 0.2],\n",
       "       [5.2, 3.5, 1.5, 0.2],\n",
       "       [4.7, 3.2, 1.6, 0.2],\n",
       "       [5.4, 3.4, 1.5, 0.4],\n",
       "       [5.5, 4.2, 1.4, 0.2],\n",
       "       [5. , 3.2, 1.2, 0.2],\n",
       "       [4.9, 3.6, 1.4, 0.1],\n",
       "       [5.1, 3.4, 1.5, 0.2],\n",
       "       [4.5, 2.3, 1.3, 0.3],\n",
       "       [5. , 3.5, 1.6, 0.6],\n",
       "       [4.8, 3. , 1.4, 0.3],\n",
       "       [4.6, 3.2, 1.4, 0.2],\n",
       "       [5. , 3.3, 1.4, 0.2],\n",
       "       [6.4, 3.2, 4.5, 1.5],\n",
       "       [5.5, 2.3, 4. , 1.3],\n",
       "       [5.7, 2.8, 4.5, 1.3],\n",
       "       [4.9, 2.4, 3.3, 1. ],\n",
       "       [5.2, 2.7, 3.9, 1.4],\n",
       "       [5.9, 3. , 4.2, 1.5],\n",
       "       [6.1, 2.9, 4.7, 1.4],\n",
       "       [6.7, 3.1, 4.4, 1.4],\n",
       "       [5.8, 2.7, 4.1, 1. ],\n",
       "       [5.6, 2.5, 3.9, 1.1],\n",
       "       [6.1, 2.8, 4. , 1.3],\n",
       "       [6.1, 2.8, 4.7, 1.2],\n",
       "       [6.6, 3. , 4.4, 1.4],\n",
       "       [6.7, 3. , 5. , 1.7],\n",
       "       [5.7, 2.6, 3.5, 1. ],\n",
       "       [5.5, 2.4, 3.7, 1. ],\n",
       "       [6. , 2.7, 5.1, 1.6],\n",
       "       [6. , 3.4, 4.5, 1.6],\n",
       "       [6.3, 2.3, 4.4, 1.3],\n",
       "       [5.5, 2.5, 4. , 1.3],\n",
       "       [6.1, 3. , 4.6, 1.4],\n",
       "       [5. , 2.3, 3.3, 1. ],\n",
       "       [5.7, 3. , 4.2, 1.2],\n",
       "       [6.2, 2.9, 4.3, 1.3],\n",
       "       [5.7, 2.8, 4.1, 1.3],\n",
       "       [5.8, 2.7, 5.1, 1.9],\n",
       "       [6.3, 2.9, 5.6, 1.8],\n",
       "       [7.6, 3. , 6.6, 2.1],\n",
       "       [7.3, 2.9, 6.3, 1.8],\n",
       "       [7.2, 3.6, 6.1, 2.5],\n",
       "       [6.4, 2.7, 5.3, 1.9],\n",
       "       [5.7, 2.5, 5. , 2. ],\n",
       "       [6.4, 3.2, 5.3, 2.3],\n",
       "       [7.7, 3.8, 6.7, 2.2],\n",
       "       [6. , 2.2, 5. , 1.5],\n",
       "       [5.6, 2.8, 4.9, 2. ],\n",
       "       [6.3, 2.7, 4.9, 1.8],\n",
       "       [7.2, 3.2, 6. , 1.8],\n",
       "       [6.1, 3. , 4.9, 1.8],\n",
       "       [7.2, 3. , 5.8, 1.6],\n",
       "       [7.9, 3.8, 6.4, 2. ],\n",
       "       [6.3, 2.8, 5.1, 1.5],\n",
       "       [7.7, 3. , 6.1, 2.3],\n",
       "       [6.4, 3.1, 5.5, 1.8],\n",
       "       [6.9, 3.1, 5.4, 2.1],\n",
       "       [6.9, 3.1, 5.1, 2.3],\n",
       "       [6.8, 3.2, 5.9, 2.3],\n",
       "       [6.7, 3. , 5.2, 2.3],\n",
       "       [6.5, 3. , 5.2, 2. ],\n",
       "       [5.9, 3. , 5.1, 1.8]])"
      ]
     },
     "execution_count": 5,
     "metadata": {},
     "output_type": "execute_result"
    }
   ],
   "source": [
    "X = iris.data\n",
    "y = iris.target\n",
    "\n",
    "#Training and test set\n",
    "X_train = X[::2]\n",
    "y_train = y[::2]\n",
    "X_test = X[1::2]\n",
    "y_test = y[1::2]\n",
    "X1 = np.apply_along_axis(lambda x: x/np.linalg.norm(x),1,X)\n",
    "\n",
    "X_test"
   ]
  },
  {
   "cell_type": "code",
   "execution_count": 6,
   "metadata": {},
   "outputs": [
    {
     "data": {
      "text/plain": [
       "array([4.6, 3.1, 1.5, 0.2])"
      ]
     },
     "execution_count": 6,
     "metadata": {},
     "output_type": "execute_result"
    }
   ],
   "source": [
    "X_test[1]"
   ]
  },
  {
   "cell_type": "code",
   "execution_count": 5,
   "metadata": {},
   "outputs": [
    {
     "name": "stdout",
     "output_type": "stream",
     "text": [
      "Performance of linear kernel:  0.74\n"
     ]
    }
   ],
   "source": [
    "#Linear kernel used\n",
    "clf = SVC(kernel='linear')\n",
    "clf.fit(X_train, y_train)\n",
    "#Get support vectors\n",
    "support = clf.support_vectors_\n",
    "#Get indices of support vectors\n",
    "support_indices = clf.support_\n",
    "#Get number of support vectors for each class\n",
    "nb_support = clf.n_support_\n",
    "\n",
    "#Performance\n",
    "y_prediction = clf.predict(X_test)\n",
    "score = clf.score(X_test, y_test)\n",
    "print(\"Performance of linear kernel: \",score)"
   ]
  },
  {
   "cell_type": "markdown",
   "metadata": {},
   "source": [
    "### Question 2"
   ]
  },
  {
   "cell_type": "code",
   "execution_count": 6,
   "metadata": {},
   "outputs": [
    {
     "name": "stdout",
     "output_type": "stream",
     "text": [
      "Performance of polynomial kernel:  0.72\n"
     ]
    },
    {
     "name": "stderr",
     "output_type": "stream",
     "text": [
      "/Users/maximelhoustau/anaconda3/lib/python3.6/site-packages/sklearn/svm/base.py:196: FutureWarning: The default value of gamma will change from 'auto' to 'scale' in version 0.22 to account better for unscaled features. Set gamma explicitly to 'auto' or 'scale' to avoid this warning.\n",
      "  \"avoid this warning.\", FutureWarning)\n"
     ]
    }
   ],
   "source": [
    "#Polynomial kernel used\n",
    "clf = SVC(kernel='poly')\n",
    "clf.fit(X_train, y_train)\n",
    "\n",
    "#Performance\n",
    "y_prediction = clf.predict(X_test)\n",
    "score = clf.score(X_test, y_test)\n",
    "print(\"Performance of polynomial kernel: \",score)"
   ]
  },
  {
   "cell_type": "markdown",
   "metadata": {},
   "source": [
    "### Question 3"
   ]
  },
  {
   "cell_type": "markdown",
   "metadata": {},
   "source": [
    "Nous voulons trouver \n",
    "\n",
    "$$ \\text{arg min}_{\\textbf w \\in \\mathcal H, \\omega_0 \\in \\mathbb R, \\xi\\in \\mathbb R^n} \\Big(\\frac12 \\lVert \\textbf w \\lVert^2 + C \\sum_{i=1}^n \\xi_i \\Big) $$\n",
    "\n",
    "avec les contraintes :\n",
    "\n",
    "\\begin{align}\n",
    "\\forall i \\in 1 \\dots n,\\;\\;\\; &\\xi_i \\geq 0 \\\\\n",
    "&y_i(\\langle \\textbf w, \\phi(\\textbf x_i)\\rangle + \\omega_0) \\geq 1-\\xi_i \\\\\n",
    "\\\\\n",
    "i.e. \\;\\;\\; & \\xi_i \\geq 0 \\\\\n",
    "&\\xi_i \\geq 1-y_i(\\langle \\textbf w, \\phi(\\textbf x_i)\\rangle + \\omega_0)  \\\\\n",
    "\\\\\n",
    "i.e.\\;\\;\\; &\\xi_i \\geq \\min\\big(0,1-y_i(\\langle \\textbf w, \\phi(\\textbf x_i)\\rangle + \\omega_0\\big) \\\\\n",
    "i.e. \\;\\;\\; &\\xi_i \\geq \\big[1-y_i(\\langle \\textbf w, \\phi(\\textbf x_i)\\rangle + \\omega_0\\big]_+ \\\\\n",
    "\\end{align}\n",
    "\n",
    "Or, comme $C \\geq 0$ et $\\xi_i \\geq 0$, l'inégalité devient une égalité pour minimiser la somme.\n",
    "\n",
    "D'où, on cherche :\n",
    "\n",
    "$$ \\text{arg min}_{\\textbf w \\in \\mathcal H, \\omega_0 \\in \\mathbb R} \\Big(\\frac12 \\lVert \\textbf w \\lVert^2 + C \\sum_{i=1}^n\\big[1-y_i(\\langle \\textbf w, \\phi(\\textbf x_i)\\rangle + \\omega_0\\big]_+ \\Big) $$"
   ]
  },
  {
   "cell_type": "markdown",
   "metadata": {},
   "source": [
    "### Question  4"
   ]
  },
  {
   "cell_type": "markdown",
   "metadata": {},
   "source": [
    "La fonction $\\mathbb 1_{\\mathbb R^-}$ n'est pas convexe. On choisit donc une fonction convexe qui la majore, c'est la fonction Hinge.\n",
    "\n",
    "Cette fonction peut être minimisée pour minimiser l'erreur de classification."
   ]
  },
  {
   "cell_type": "markdown",
   "metadata": {},
   "source": [
    "### SVM"
   ]
  },
  {
   "cell_type": "markdown",
   "metadata": {},
   "source": [
    "We observe that when we reduce the parameter C, the margin increase\n",
    "Sometimes, the separator hyperplan also change when we decrease the parameter C"
   ]
  },
  {
   "cell_type": "markdown",
   "metadata": {},
   "source": [
    "### Question 5"
   ]
  },
  {
   "cell_type": "code",
   "execution_count": 7,
   "metadata": {},
   "outputs": [
    {
     "name": "stdout",
     "output_type": "stream",
     "text": [
      "\n",
      "Fitting the classifier to the training set with C=10** -5\n",
      "Predicting the people names on the testing set\n",
      "done in 0.513s\n",
      "Chance level : 0.6210526315789474\n",
      "Accuracy : 0.6789473684210526\n",
      "\n",
      "Fitting the classifier to the training set with C=10** -4\n",
      "Predicting the people names on the testing set\n",
      "done in 0.321s\n",
      "Chance level : 0.6210526315789474\n",
      "Accuracy : 0.8894736842105263\n",
      "\n",
      "Fitting the classifier to the training set with C=10** -3\n",
      "Predicting the people names on the testing set\n",
      "done in 0.348s\n",
      "Chance level : 0.6210526315789474\n",
      "Accuracy : 0.8789473684210526\n",
      "\n",
      "Fitting the classifier to the training set with C=10** -2\n",
      "Predicting the people names on the testing set\n",
      "done in 0.344s\n",
      "Chance level : 0.6210526315789474\n",
      "Accuracy : 0.8789473684210526\n",
      "\n",
      "Fitting the classifier to the training set with C=10** -1\n",
      "Predicting the people names on the testing set\n",
      "done in 0.543s\n",
      "Chance level : 0.6210526315789474\n",
      "Accuracy : 0.8789473684210526\n",
      "\n",
      "Fitting the classifier to the training set with C=10** 0\n",
      "Predicting the people names on the testing set\n",
      "done in 0.529s\n",
      "Chance level : 0.6210526315789474\n",
      "Accuracy : 0.8789473684210526\n",
      "\n",
      "Fitting the classifier to the training set with C=10** 1\n",
      "Predicting the people names on the testing set\n",
      "done in 0.354s\n",
      "Chance level : 0.6210526315789474\n",
      "Accuracy : 0.8789473684210526\n",
      "\n",
      "Fitting the classifier to the training set with C=10** 2\n",
      "Predicting the people names on the testing set\n",
      "done in 0.356s\n",
      "Chance level : 0.6210526315789474\n",
      "Accuracy : 0.8789473684210526\n",
      "\n",
      "Fitting the classifier to the training set with C=10** 3\n",
      "Predicting the people names on the testing set\n",
      "done in 0.351s\n",
      "Chance level : 0.6210526315789474\n",
      "Accuracy : 0.8789473684210526\n",
      "\n",
      "Fitting the classifier to the training set with C=10** 4\n",
      "Predicting the people names on the testing set\n",
      "done in 0.352s\n",
      "Chance level : 0.6210526315789474\n",
      "Accuracy : 0.8789473684210526\n",
      "\n",
      "Fitting the classifier to the training set with C=10** 5\n",
      "Predicting the people names on the testing set\n",
      "done in 0.374s\n",
      "Chance level : 0.6210526315789474\n",
      "Accuracy : 0.8789473684210526\n"
     ]
    },
    {
     "data": {
      "image/png": "[encoded data removed]",
      "text/plain": [
       "<Figure size 432x288 with 1 Axes>"
      ]
     },
     "metadata": {
      "needs_background": "light"
     },
     "output_type": "display_data"
    }
   ],
   "source": [
    "#Import the dataset\n",
    "lfw_people = fetch_lfw_people(min_faces_per_person=70, resize=0.4,\n",
    "                              color=True, funneled=False, slice_=None,\n",
    "                              download_if_missing=True)\n",
    "# data_home='.'\n",
    "\n",
    "# introspect the images arrays to find the shapes (for plotting)\n",
    "images = lfw_people.images / 255.\n",
    "n_samples, h, w, n_colors = images.shape\n",
    "\n",
    "# the label to predict is the id of the person\n",
    "target_names = lfw_people.target_names.tolist()\n",
    "\n",
    "####################################################################\n",
    "# Pick a pair to classify such as\n",
    "names = ['Tony Blair', 'Colin Powell']\n",
    "# names = ['Donald Rumsfeld', 'Colin Powell']\n",
    "\n",
    "idx0 = (lfw_people.target == target_names.index(names[0]))\n",
    "idx1 = (lfw_people.target == target_names.index(names[1]))\n",
    "images = np.r_[images[idx0], images[idx1]]\n",
    "n_samples = images.shape[0]\n",
    "y = np.r_[np.zeros(np.sum(idx0)), np.ones(np.sum(idx1))].astype(np.int)\n",
    "\n",
    "####################################################################\n",
    "# Extract features\n",
    "\n",
    "# features using only illuminations\n",
    "X = (np.mean(images, axis=3)).reshape(n_samples, -1)\n",
    "\n",
    "# # or compute features using colors (3 times more features)\n",
    "# X = images.copy().reshape(n_samples, -1)\n",
    "\n",
    "# Scale features\n",
    "X -= np.mean(X, axis=0)\n",
    "X /= np.std(X, axis=0)\n",
    "\n",
    "####################################################################\n",
    "# Split data into a half training and half test set\n",
    "# X_train, X_test, y_train, y_test, images_train, images_test = \\\n",
    "#    train_test_split(X, y, images, test_size=0.5, random_state=0)\n",
    "# X_train, X_test, y_train, y_test = \\\n",
    "#    train_test_split(X, y, test_size=0.5, random_state=0)\n",
    "\n",
    "indices = np.random.permutation(X.shape[0])\n",
    "train_idx, test_idx = indices[:X.shape[0] // 2], indices[X.shape[0] // 2:]\n",
    "X_train, X_test = X[train_idx, :], X[test_idx, :]\n",
    "y_train, y_test = y[train_idx], y[test_idx]\n",
    "images_train, images_test = images[\n",
    "    train_idx, :, :, :], images[test_idx, :, :, :]\n",
    "\n",
    "####################################################################\n",
    "# Quantitative evaluation of the model quality on the test set\n",
    "C = [];\n",
    "Score = [];\n",
    "for i in range(11):\n",
    "    exp = -5+i;\n",
    "    C.append(10**(exp))\n",
    "    print(\"\\nFitting the classifier to the training set with C=10**\", exp)\n",
    "    t1 = time()\n",
    "    #TODO : fit a classifier\n",
    "    clf = SVC(kernel='linear', C=10**(exp))\n",
    "    clf.fit(X_train, y_train)\n",
    "    print(\"Predicting the people names on the testing set\")\n",
    "    t0 = time()\n",
    "    # TODO : predict labels for the X_test images\n",
    "    y_prediction = clf.predict(X_test)\n",
    "    score = clf.score(X_test, y_test)\n",
    "    print(\"done in %0.3fs\" % (t0 - t1))\n",
    "    print(\"Chance level : %s\" % max(np.mean(y), 1. - np.mean(y)))\n",
    "    print(\"Accuracy : %s\" % clf.score(X_test, y_test))\n",
    "    Score.append(1-clf.score(X_test, y_test))\n",
    "\n",
    "plt.figure()\n",
    "plt.plot(C, Score, 'o')\n",
    "plt.xlabel(\"Regularization parameter C\")\n",
    "plt.ylabel(\"Prediction error\")\n",
    "plt.xscale('log')\n",
    "plt.title(\"Influence of parameter C on the prediction error\")\n",
    "plt.show()"
   ]
  },
  {
   "cell_type": "markdown",
   "metadata": {},
   "source": [
    "### Question 6"
   ]
  },
  {
   "cell_type": "code",
   "execution_count": 24,
   "metadata": {},
   "outputs": [
    {
     "data": {
      "image/png": "[encoded data removed]",
      "text/plain": [
       "<Figure size 432x288 with 1 Axes>"
      ]
     },
     "metadata": {
      "needs_background": "light"
     },
     "output_type": "display_data"
    }
   ],
   "source": [
    "#Number of nuisance variables\n",
    "clf = SVC(kernel='linear')\n",
    "max = 100\n",
    "nb_noise = [100*i for i in range(max)];\n",
    "score =[0*i for i in range(max)]\n",
    "for i in range(max):\n",
    "    X_train_noise = np.c_[X_train, rd.rand(190,nb_noise[i])]\n",
    "    X_test_noise = np.c_[X_test, rd.rand(190,nb_noise[i])]\n",
    "    clf.fit(X_train_noise, y_train)\n",
    "    score[i] = (1 - clf.score(X_test_noise, y_test))\n",
    "\n",
    "plt.figure()\n",
    "plt.plot(nb_noise, score, 'o')\n",
    "plt.xlabel(\"Number of nuisance variables\")\n",
    "plt.ylabel(\"Prediction error\")\n",
    "plt.title(\"Influence of nuisance variables on the prediction error\")\n",
    "plt.show()  "
   ]
  },
  {
   "cell_type": "markdown",
   "metadata": {},
   "source": [
    "### Question 8"
   ]
  },
  {
   "cell_type": "code",
   "execution_count": 17,
   "metadata": {},
   "outputs": [
    {
     "name": "stderr",
     "output_type": "stream",
     "text": [
      "/Users/maximelhoustau/anaconda3/lib/python3.6/site-packages/sklearn/svm/base.py:196: FutureWarning: The default value of gamma will change from 'auto' to 'scale' in version 0.22 to account better for unscaled features. Set gamma explicitly to 'auto' or 'scale' to avoid this warning.\n",
      "  \"avoid this warning.\", FutureWarning)\n"
     ]
    },
    {
     "name": "stdout",
     "output_type": "stream",
     "text": [
      "Prediction error:  0.13157894736842102\n",
      "The prediction error is a bit worse, let's try a dimension reduction\n"
     ]
    }
   ],
   "source": [
    "#Kernel RBF\n",
    "clf = SVC(kernel='rbf')\n",
    "clf.fit(X_train, y_train)\n",
    "print(\"Prediction error: \", 1 - clf.score(X_test, y_test))\n",
    "print(\"The prediction error is a bit worse, let's try a dimension reduction\")"
   ]
  },
  {
   "cell_type": "code",
   "execution_count": 16,
   "metadata": {},
   "outputs": [
    {
     "data": {
      "text/plain": [
       "-18135.74"
      ]
     },
     "execution_count": 16,
     "metadata": {},
     "output_type": "execute_result"
    }
   ],
   "source": [
    "#Dimension reduction\n",
    "pca = PCA(n_components=100)\n",
    "pca.fit(X_train,y_train)\n",
    "pca.score(X_test, y_test)"
   ]
  },
  {
   "cell_type": "markdown",
   "metadata": {},
   "source": [
    "### Question 8"
   ]
  },
  {
   "cell_type": "code",
   "execution_count": 14,
   "metadata": {},
   "outputs": [
    {
     "data": {
      "text/plain": [
       "(190, 60000)"
      ]
     },
     "execution_count": 14,
     "metadata": {},
     "output_type": "execute_result"
    }
   ],
   "source": []
  },
  {
   "cell_type": "code",
   "execution_count": null,
   "metadata": {},
   "outputs": [],
   "source": []
  },
  {
   "cell_type": "code",
   "execution_count": null,
   "metadata": {},
   "outputs": [],
   "source": []
  }
 ],
 "metadata": {
  "kernelspec": {
   "display_name": "Python 3",
   "language": "python",
   "name": "python3"
  },
  "language_info": {
   "codemirror_mode": {
    "name": "ipython",
    "version": 3
   },
   "file_extension": ".py",
   "mimetype": "text/x-python",
   "name": "python",
   "nbconvert_exporter": "python",
   "pygments_lexer": "ipython3",
   "version": "3.6.6"
  }
 },
 "nbformat": 4,
 "nbformat_minor": 2
}
